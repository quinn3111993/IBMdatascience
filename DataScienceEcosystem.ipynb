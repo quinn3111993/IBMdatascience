{
  "nbformat": 4,
  "nbformat_minor": 0,
  "metadata": {
    "colab": {
      "provenance": []
    },
    "kernelspec": {
      "name": "python3",
      "display_name": "Python 3"
    },
    "language_info": {
      "name": "python"
    }
  },
  "cells": [
    {
      "cell_type": "markdown",
      "source": [
        "# Data Science Tools and Ecosystem"
      ],
      "metadata": {
        "id": "C_OOqQPjWRZ7"
      }
    },
    {
      "cell_type": "markdown",
      "source": [
        "In this notebook, Data Science Tools and Ecosystem are summarized."
      ],
      "metadata": {
        "id": "ZeVA_pyJWeae"
      }
    },
    {
      "cell_type": "markdown",
      "source": [
        "**Objectives:**\n",
        "\n",
        "\n",
        "*   Popular languages for data scientists\n",
        "*   Commonly used libraries by data scientists\n",
        "*   Example of code cell\n",
        "\n"
      ],
      "metadata": {
        "id": "7G2HvkE9ZZH8"
      }
    },
    {
      "cell_type": "markdown",
      "source": [
        "Some of the popular languages that Data Scientists use are:\n",
        "\n",
        "1.   Python\n",
        "2.   R\n",
        "3.   SQL\n",
        "\n"
      ],
      "metadata": {
        "id": "r4l93rBlWzQ2"
      }
    },
    {
      "cell_type": "markdown",
      "source": [
        "Some of the commonly used libraries used by Data Scientists include:\n",
        "\n",
        "1.   Pandas\n",
        "2.   Numpy\n",
        "3.   Matplotlib\n",
        "4.   Scikit-learn\n",
        "\n"
      ],
      "metadata": {
        "id": "8h_t3efpW-nr"
      }
    },
    {
      "cell_type": "markdown",
      "source": [
        "| Data Science Tools| \n",
        "| --- |\n",
        "| Jupyter Notebook|\n",
        "| RStudio|\n",
        "| Spyder|"
      ],
      "metadata": {
        "id": "cGqqbi0RXap6"
      }
    },
    {
      "cell_type": "markdown",
      "source": [
        "### Below are a few examples of evaluating arithmetic expressions in Python"
      ],
      "metadata": {
        "id": "2Qyp2c6_Yu5T"
      }
    },
    {
      "cell_type": "code",
      "source": [
        "# This a simple arithmetic expression to mutiply then add integers\n",
        "(3*4)+5"
      ],
      "metadata": {
        "colab": {
          "base_uri": "https://localhost:8080/"
        },
        "id": "vSuh6atdY17n",
        "outputId": "4e6edfb9-0865-4e0e-b396-72e6deabefce"
      },
      "execution_count": 1,
      "outputs": [
        {
          "output_type": "execute_result",
          "data": {
            "text/plain": [
              "17"
            ]
          },
          "metadata": {},
          "execution_count": 1
        }
      ]
    },
    {
      "cell_type": "code",
      "source": [
        "# This will convert 200 minutes to hours by diving by 60\n",
        "200/60"
      ],
      "metadata": {
        "colab": {
          "base_uri": "https://localhost:8080/"
        },
        "id": "dlgUvCySZI1f",
        "outputId": "1c680d75-647f-4fbc-e6f2-60528f1cf250"
      },
      "execution_count": 2,
      "outputs": [
        {
          "output_type": "execute_result",
          "data": {
            "text/plain": [
              "3.3333333333333335"
            ]
          },
          "metadata": {},
          "execution_count": 2
        }
      ]
    },
    {
      "cell_type": "markdown",
      "source": [
        "## Author\n",
        "Quynh"
      ],
      "metadata": {
        "id": "wmwyC7RAaIvW"
      }
    }
  ]
}